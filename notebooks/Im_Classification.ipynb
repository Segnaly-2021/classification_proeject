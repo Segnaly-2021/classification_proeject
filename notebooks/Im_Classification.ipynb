{
 "cells": [
  {
   "cell_type": "code",
   "execution_count": null,
   "id": "2b63f1f9-9b48-4d79-a1ee-5ac377ec9f41",
   "metadata": {},
   "outputs": [],
   "source": [
    "# Imports\n",
    "import os\n",
    "import numpy as np\n",
    "import tensorflow as tf\n",
    "from tensorflow import keras\n",
    "from ResBlock.residual import ResidualBlock"
   ]
  },
  {
   "cell_type": "code",
   "execution_count": null,
   "id": "df5a2c70-72f2-4a5f-9634-31c91d6461c9",
   "metadata": {},
   "outputs": [],
   "source": [
    "# Load database\n",
    "(x_train, y_train), (x_test, y_test) = keras.datasets.mnist.load_data()"
   ]
  },
  {
   "cell_type": "code",
   "execution_count": null,
   "id": "d0e50ec5-7e84-40bb-a497-b719cea31ba7",
   "metadata": {},
   "outputs": [],
   "source": [
    "# Create a path for test images\n",
    "image_test_path = \"./images_test\"\n",
    "if not os.path.exists(image_test_path):\n",
    "    os.mkdir(image_test_path)\n",
    "\n",
    "\n",
    "def arraytoimage(x, y):\n",
    "    \"\"\"Converts numpy array to image\"\"\"\n",
    "    len_x = x.shape[0]\n",
    "    for i in range(len_x):\n",
    "        image = Image.fromarray(x[i])\n",
    "        name = str(y[i])\n",
    "        image.save(f\"{image_test_path }/{name}.png\")"
   ]
  },
  {
   "cell_type": "code",
   "execution_count": null,
   "id": "2a4b961c-2adb-4760-a7f0-5fd656484df1",
   "metadata": {},
   "outputs": [],
   "source": [
    "arraytoimage(x_test, y_test)"
   ]
  },
  {
   "cell_type": "code",
   "execution_count": null,
   "id": "e0579cf1-8758-4bf6-9c75-79e43a6ca573",
   "metadata": {},
   "outputs": [],
   "source": [
    "# Scale test and training set to range from 0 to 1\n",
    "x_train, x_test = x_train / 255.0, x_test / 255.0"
   ]
  },
  {
   "cell_type": "code",
   "execution_count": null,
   "id": "e36c2092-4923-4653-afb9-57775d915ea1",
   "metadata": {},
   "outputs": [],
   "source": [
    "# Model definition\n",
    "\n",
    "model = keras.Sequential()\n",
    "model.add(keras.layers.Input(shape=(28, 28, 1)))\n",
    "\n",
    "# Keep the first stack of layers of ResNet with a little change in the\n",
    "# number of strides, set to 1 instead of 2 (due to the size of images)\n",
    "model.add(keras.layers.Conv2D(64, kernel_size=7, strides=1, name=\"label_xf\"))\n",
    "model.add(keras.layers.BatchNormalization())\n",
    "model.add(keras.layers.Activation(\"relu\"))\n",
    "model.add(keras.layers.MaxPool2D(pool_size=3, strides=1, padding=\"same\"))\n",
    "\n",
    "# Number of filters in the first Con2D layer\n",
    "pre_filter = 64\n",
    "\n",
    "# Builds the residual blocks using ResidualBlock class\n",
    "# defined in the ./ResBlock/residual.py file\n",
    "for filter in [64] * 3 + [128]:\n",
    "    strides = 1 if filter == pre_filter else 2\n",
    "    model.add(ResidualBlock(filters=filter, strides=strides))\n",
    "    pre_filter = filter\n",
    "\n",
    "# Uses a glabal average layer and then flattens its output\n",
    "model.add(keras.layers.GlobalAvgPool2D())\n",
    "model.add(keras.layers.Flatten())\n",
    "\n",
    "# Add a dense layer and tuner its number of units\n",
    "model.add(keras.layers.Dense(units=28, activation=\"relu\"))\n",
    "\n",
    "# Add the output layer\n",
    "model.add(keras.layers.Dense(10, activation=\"softmax\"))"
   ]
  },
  {
   "cell_type": "code",
   "execution_count": null,
   "id": "b19a9290-92f7-4b91-8d00-5f876e8a26d1",
   "metadata": {},
   "outputs": [],
   "source": [
    "# Adam optimizer and compile the model\n",
    "optimizer = keras.optimizers.Adam(learning_rate=0.01)\n",
    "model.compile(\n",
    "    optimizer=optimizer,\n",
    "    loss=keras.losses.SparseCategoricalCrossentropy(),\n",
    "    metrics=[\"accuracy\"],\n",
    ")\n",
    "model.summary()"
   ]
  },
  {
   "cell_type": "code",
   "execution_count": null,
   "id": "e650303d-3f11-4967-9a4c-7e6c5e01156b",
   "metadata": {},
   "outputs": [],
   "source": [
    "# Train the model\n",
    "model.fit(\n",
    "    x=x_train,\n",
    "    y=y_train,\n",
    "    batch_size=32,\n",
    "    epochs=5,\n",
    "    validation_split=0.2,\n",
    "    steps_per_epoch=1500,\n",
    ")"
   ]
  },
  {
   "cell_type": "code",
   "execution_count": null,
   "id": "79373216-677a-42a2-b02d-16b02e56b1ee",
   "metadata": {},
   "outputs": [],
   "source": [
    "# Evaluate the model\n",
    "model.evaluate(x_test, y_test)"
   ]
  },
  {
   "cell_type": "code",
   "execution_count": null,
   "id": "596dcdb5-0d59-4d98-a3f0-2c792850a4b1",
   "metadata": {},
   "outputs": [],
   "source": [
    "# Save the model\n",
    "tf.saved_model.save(model, \"./app/models/\")"
   ]
  },
  {
   "cell_type": "code",
   "execution_count": null,
   "id": "a282d4a4-fdbf-4f93-b782-0548634d8166",
   "metadata": {},
   "outputs": [],
   "source": [
    "# Test\n",
    "model = tf.saved_model.load(\"./app/models/\")\n",
    "pred_func = model.signatures[\"serving_default\"]\n",
    "\n",
    "x_tensor = tf.convert_to_tensor(x_train[0], dtype=tf.float32)\n",
    "\n",
    "x_tensor = tf.expand_dims(x_tensor, axis=0)\n",
    "x_tensor = tf.expand_dims(x_tensor, axis=3)\n",
    "\n",
    "print(np.argmax(pred_func(x_tensor)[\"output_0\"].numpy()))\n",
    "print(np.max(pred_func(x_tensor)[\"output_0\"].numpy()))"
   ]
  }
 ],
 "metadata": {
  "kernelspec": {
   "display_name": "Python 3 (ipykernel)",
   "language": "python",
   "name": "python3"
  },
  "language_info": {
   "codemirror_mode": {
    "name": "ipython",
    "version": 3
   },
   "file_extension": ".py",
   "mimetype": "text/x-python",
   "name": "python",
   "nbconvert_exporter": "python",
   "pygments_lexer": "ipython3",
   "version": "3.11.7"
  }
 },
 "nbformat": 4,
 "nbformat_minor": 5
}
